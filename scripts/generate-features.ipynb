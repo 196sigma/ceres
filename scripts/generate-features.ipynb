{
 "cells": [
  {
   "cell_type": "code",
   "execution_count": 2,
   "metadata": {},
   "outputs": [],
   "source": [
    "## Reginald Edwards\n",
    "## 23 July 2018\n",
    "##\n",
    "## Generate features for earnings forecasts"
   ]
  },
  {
   "cell_type": "code",
   "execution_count": 11,
   "metadata": {},
   "outputs": [],
   "source": [
    "import pandas as pd\n",
    "import numpy as np"
   ]
  },
  {
   "cell_type": "code",
   "execution_count": 4,
   "metadata": {},
   "outputs": [
    {
     "data": {
      "text/html": [
       "<div>\n",
       "<style scoped>\n",
       "    .dataframe tbody tr th:only-of-type {\n",
       "        vertical-align: middle;\n",
       "    }\n",
       "\n",
       "    .dataframe tbody tr th {\n",
       "        vertical-align: top;\n",
       "    }\n",
       "\n",
       "    .dataframe thead th {\n",
       "        text-align: right;\n",
       "    }\n",
       "</style>\n",
       "<table border=\"1\" class=\"dataframe\">\n",
       "  <thead>\n",
       "    <tr style=\"text-align: right;\">\n",
       "      <th></th>\n",
       "      <th>Unnamed: 0</th>\n",
       "      <th>gvkey</th>\n",
       "      <th>fyearq</th>\n",
       "      <th>fyr</th>\n",
       "      <th>datacqtr</th>\n",
       "      <th>datafqtr</th>\n",
       "      <th>datadate</th>\n",
       "      <th>tic</th>\n",
       "      <th>conm</th>\n",
       "      <th>apq</th>\n",
       "      <th>...</th>\n",
       "      <th>revtq</th>\n",
       "      <th>saleq</th>\n",
       "      <th>xsgaq</th>\n",
       "      <th>spiq</th>\n",
       "      <th>seqq</th>\n",
       "      <th>qtr</th>\n",
       "      <th>sich</th>\n",
       "      <th>qtr.lag1</th>\n",
       "      <th>gap</th>\n",
       "      <th>epspxq.lead1</th>\n",
       "    </tr>\n",
       "  </thead>\n",
       "  <tbody>\n",
       "    <tr>\n",
       "      <th>0</th>\n",
       "      <td>24</td>\n",
       "      <td>1000</td>\n",
       "      <td>1971</td>\n",
       "      <td>12</td>\n",
       "      <td>1971Q4</td>\n",
       "      <td>1971Q4</td>\n",
       "      <td>19711231</td>\n",
       "      <td>AE.2</td>\n",
       "      <td>A &amp; E PLASTIK PAK INC</td>\n",
       "      <td>4.326</td>\n",
       "      <td>...</td>\n",
       "      <td>7.872</td>\n",
       "      <td>7.872</td>\n",
       "      <td>7.956</td>\n",
       "      <td>0.00</td>\n",
       "      <td>8.381</td>\n",
       "      <td>48</td>\n",
       "      <td>NaN</td>\n",
       "      <td>NaN</td>\n",
       "      <td>NaN</td>\n",
       "      <td>0.12</td>\n",
       "    </tr>\n",
       "    <tr>\n",
       "      <th>1</th>\n",
       "      <td>27</td>\n",
       "      <td>1000</td>\n",
       "      <td>1972</td>\n",
       "      <td>12</td>\n",
       "      <td>1972Q4</td>\n",
       "      <td>1972Q4</td>\n",
       "      <td>19721231</td>\n",
       "      <td>AE.2</td>\n",
       "      <td>A &amp; E PLASTIK PAK INC</td>\n",
       "      <td>2.768</td>\n",
       "      <td>...</td>\n",
       "      <td>8.918</td>\n",
       "      <td>8.918</td>\n",
       "      <td>7.551</td>\n",
       "      <td>0.00</td>\n",
       "      <td>7.021</td>\n",
       "      <td>52</td>\n",
       "      <td>NaN</td>\n",
       "      <td>48.0</td>\n",
       "      <td>4.0</td>\n",
       "      <td>0.11</td>\n",
       "    </tr>\n",
       "    <tr>\n",
       "      <th>2</th>\n",
       "      <td>35</td>\n",
       "      <td>1000</td>\n",
       "      <td>1974</td>\n",
       "      <td>12</td>\n",
       "      <td>1974Q4</td>\n",
       "      <td>1974Q4</td>\n",
       "      <td>19741231</td>\n",
       "      <td>AE.2</td>\n",
       "      <td>A &amp; E PLASTIK PAK INC</td>\n",
       "      <td>4.183</td>\n",
       "      <td>...</td>\n",
       "      <td>11.397</td>\n",
       "      <td>11.397</td>\n",
       "      <td>8.859</td>\n",
       "      <td>-0.58</td>\n",
       "      <td>10.257</td>\n",
       "      <td>60</td>\n",
       "      <td>NaN</td>\n",
       "      <td>52.0</td>\n",
       "      <td>8.0</td>\n",
       "      <td>0.27</td>\n",
       "    </tr>\n",
       "  </tbody>\n",
       "</table>\n",
       "<p>3 rows × 68 columns</p>\n",
       "</div>"
      ],
      "text/plain": [
       "   Unnamed: 0  gvkey  fyearq  fyr datacqtr datafqtr  datadate   tic  \\\n",
       "0          24   1000    1971   12   1971Q4   1971Q4  19711231  AE.2   \n",
       "1          27   1000    1972   12   1972Q4   1972Q4  19721231  AE.2   \n",
       "2          35   1000    1974   12   1974Q4   1974Q4  19741231  AE.2   \n",
       "\n",
       "                    conm    apq      ...        revtq   saleq  xsgaq  spiq  \\\n",
       "0  A & E PLASTIK PAK INC  4.326      ...        7.872   7.872  7.956  0.00   \n",
       "1  A & E PLASTIK PAK INC  2.768      ...        8.918   8.918  7.551  0.00   \n",
       "2  A & E PLASTIK PAK INC  4.183      ...       11.397  11.397  8.859 -0.58   \n",
       "\n",
       "     seqq  qtr  sich  qtr.lag1  gap  epspxq.lead1  \n",
       "0   8.381   48   NaN       NaN  NaN          0.12  \n",
       "1   7.021   52   NaN      48.0  4.0          0.11  \n",
       "2  10.257   60   NaN      52.0  8.0          0.27  \n",
       "\n",
       "[3 rows x 68 columns]"
      ]
     },
     "execution_count": 4,
     "metadata": {},
     "output_type": "execute_result"
    }
   ],
   "source": [
    "## Load data from CSV file \n",
    "fundq = pd.read_csv(\"../../0_datasets/comp_fundq.csv\")\n",
    "fundq[:3]"
   ]
  },
  {
   "cell_type": "code",
   "execution_count": 36,
   "metadata": {},
   "outputs": [
    {
     "data": {
      "text/plain": [
       "count    857472.000000\n",
       "mean       2663.955355\n",
       "std       13877.948062\n",
       "min           0.000000\n",
       "25%          49.314750\n",
       "50%         197.647562\n",
       "75%         938.042469\n",
       "max      859967.798730\n",
       "Name: mktval, dtype: float64"
      ]
     },
     "execution_count": 36,
     "metadata": {},
     "output_type": "execute_result"
    }
   ],
   "source": [
    "## create market value variable\n",
    "fundq['mktval'] = fundq['prccq']*fundq['cshoq']\n",
    "fundq['mktval'].describe()"
   ]
  },
  {
   "cell_type": "code",
   "execution_count": 35,
   "metadata": {},
   "outputs": [
    {
     "data": {
      "text/html": [
       "<div>\n",
       "<style scoped>\n",
       "    .dataframe tbody tr th:only-of-type {\n",
       "        vertical-align: middle;\n",
       "    }\n",
       "\n",
       "    .dataframe tbody tr th {\n",
       "        vertical-align: top;\n",
       "    }\n",
       "\n",
       "    .dataframe thead th {\n",
       "        text-align: right;\n",
       "    }\n",
       "</style>\n",
       "<table border=\"1\" class=\"dataframe\">\n",
       "  <thead>\n",
       "    <tr style=\"text-align: right;\">\n",
       "      <th></th>\n",
       "      <th>gvkey</th>\n",
       "      <th>datafqtr</th>\n",
       "      <th>prccq</th>\n",
       "      <th>cshoq</th>\n",
       "      <th>mktval</th>\n",
       "    </tr>\n",
       "  </thead>\n",
       "  <tbody>\n",
       "    <tr>\n",
       "      <th>0</th>\n",
       "      <td>1000</td>\n",
       "      <td>1971Q4</td>\n",
       "      <td>5.750</td>\n",
       "      <td>2.995</td>\n",
       "      <td>17.22125</td>\n",
       "    </tr>\n",
       "    <tr>\n",
       "      <th>1</th>\n",
       "      <td>1000</td>\n",
       "      <td>1972Q4</td>\n",
       "      <td>5.125</td>\n",
       "      <td>2.902</td>\n",
       "      <td>14.87275</td>\n",
       "    </tr>\n",
       "    <tr>\n",
       "      <th>2</th>\n",
       "      <td>1000</td>\n",
       "      <td>1974Q4</td>\n",
       "      <td>2.125</td>\n",
       "      <td>2.150</td>\n",
       "      <td>4.56875</td>\n",
       "    </tr>\n",
       "    <tr>\n",
       "      <th>3</th>\n",
       "      <td>1000</td>\n",
       "      <td>1975Q4</td>\n",
       "      <td>4.375</td>\n",
       "      <td>2.098</td>\n",
       "      <td>9.17875</td>\n",
       "    </tr>\n",
       "    <tr>\n",
       "      <th>4</th>\n",
       "      <td>1000</td>\n",
       "      <td>1976Q1</td>\n",
       "      <td>6.750</td>\n",
       "      <td>2.096</td>\n",
       "      <td>14.14800</td>\n",
       "    </tr>\n",
       "    <tr>\n",
       "      <th>5</th>\n",
       "      <td>1000</td>\n",
       "      <td>1976Q2</td>\n",
       "      <td>7.250</td>\n",
       "      <td>2.163</td>\n",
       "      <td>15.68175</td>\n",
       "    </tr>\n",
       "    <tr>\n",
       "      <th>6</th>\n",
       "      <td>1000</td>\n",
       "      <td>1976Q3</td>\n",
       "      <td>7.125</td>\n",
       "      <td>2.172</td>\n",
       "      <td>15.47550</td>\n",
       "    </tr>\n",
       "    <tr>\n",
       "      <th>7</th>\n",
       "      <td>1000</td>\n",
       "      <td>1976Q4</td>\n",
       "      <td>5.750</td>\n",
       "      <td>2.207</td>\n",
       "      <td>12.69025</td>\n",
       "    </tr>\n",
       "    <tr>\n",
       "      <th>8</th>\n",
       "      <td>1000</td>\n",
       "      <td>1977Q1</td>\n",
       "      <td>6.250</td>\n",
       "      <td>2.209</td>\n",
       "      <td>13.80625</td>\n",
       "    </tr>\n",
       "    <tr>\n",
       "      <th>9</th>\n",
       "      <td>1000</td>\n",
       "      <td>1977Q2</td>\n",
       "      <td>6.500</td>\n",
       "      <td>2.223</td>\n",
       "      <td>14.44950</td>\n",
       "    </tr>\n",
       "  </tbody>\n",
       "</table>\n",
       "</div>"
      ],
      "text/plain": [
       "   gvkey datafqtr  prccq  cshoq    mktval\n",
       "0   1000   1971Q4  5.750  2.995  17.22125\n",
       "1   1000   1972Q4  5.125  2.902  14.87275\n",
       "2   1000   1974Q4  2.125  2.150   4.56875\n",
       "3   1000   1975Q4  4.375  2.098   9.17875\n",
       "4   1000   1976Q1  6.750  2.096  14.14800\n",
       "5   1000   1976Q2  7.250  2.163  15.68175\n",
       "6   1000   1976Q3  7.125  2.172  15.47550\n",
       "7   1000   1976Q4  5.750  2.207  12.69025\n",
       "8   1000   1977Q1  6.250  2.209  13.80625\n",
       "9   1000   1977Q2  6.500  2.223  14.44950"
      ]
     },
     "execution_count": 35,
     "metadata": {},
     "output_type": "execute_result"
    }
   ],
   "source": [
    "fundq[['gvkey', 'datafqtr', 'prccq', 'cshoq', 'mktval']][:10]"
   ]
  },
  {
   "cell_type": "code",
   "execution_count": 34,
   "metadata": {},
   "outputs": [
    {
     "data": {
      "text/plain": [
       "count    881685.000000\n",
       "mean          5.521500\n",
       "std          84.242326\n",
       "min        -372.131000\n",
       "25%           0.000000\n",
       "50%           0.000000\n",
       "75%           0.000000\n",
       "max       22250.000000\n",
       "Name: pstk_new, dtype: float64"
      ]
     },
     "execution_count": 34,
     "metadata": {},
     "output_type": "execute_result"
    }
   ],
   "source": [
    "# preferred stock\n",
    "fundq['pstk_new'] = fundq.pstkrq.combine_first(fundq.pstkq)\n",
    "fundq['pstk_new'].fillna(0, inplace = True)\n",
    "fundq['pstk_new'].describe()"
   ]
  },
  {
   "cell_type": "code",
   "execution_count": 33,
   "metadata": {},
   "outputs": [
    {
     "data": {
      "text/plain": [
       "count    880793.00000\n",
       "mean       1327.99206\n",
       "std        7218.03547\n",
       "min      -85591.00000\n",
       "25%          28.98300\n",
       "50%         110.66900\n",
       "75%         499.15800\n",
       "max      404478.00000\n",
       "Name: be, dtype: float64"
      ]
     },
     "execution_count": 33,
     "metadata": {},
     "output_type": "execute_result"
    }
   ],
   "source": [
    "fundq['txditcq'].fillna(0, inplace = True)\n",
    "fundq['be'] = fundq['seqq'] + fundq['txditcq'] - fundq['pstk_new']\n",
    "fundq['be'].describe()"
   ]
  },
  {
   "cell_type": "code",
   "execution_count": 46,
   "metadata": {},
   "outputs": [
    {
     "data": {
      "text/plain": [
       "count    839512.000000\n",
       "mean          1.970268\n",
       "std         324.508774\n",
       "min           0.000002\n",
       "25%           0.355545\n",
       "50%           0.627679\n",
       "75%           1.010484\n",
       "max      268531.889877\n",
       "Name: bm, dtype: float64"
      ]
     },
     "execution_count": 46,
     "metadata": {},
     "output_type": "execute_result"
    }
   ],
   "source": [
    "# book-to-market\n",
    "fundq['bm'] = fundq['be']/(fundq['mktval'])\n",
    "fundq = fundq[fundq['mktval'] > 0]\n",
    "fundq = fundq[fundq['be'] > 0]\n",
    "fundq['bm'].describe()"
   ]
  },
  {
   "cell_type": "code",
   "execution_count": 43,
   "metadata": {},
   "outputs": [
    {
     "data": {
      "text/plain": [
       "(857459, 72)"
      ]
     },
     "execution_count": 43,
     "metadata": {},
     "output_type": "execute_result"
    }
   ],
   "source": []
  },
  {
   "cell_type": "code",
   "execution_count": null,
   "metadata": {},
   "outputs": [],
   "source": []
  },
  {
   "cell_type": "code",
   "execution_count": null,
   "metadata": {},
   "outputs": [],
   "source": []
  }
 ],
 "metadata": {
  "kernelspec": {
   "display_name": "Python 3",
   "language": "python",
   "name": "python3"
  },
  "language_info": {
   "codemirror_mode": {
    "name": "ipython",
    "version": 3
   },
   "file_extension": ".py",
   "mimetype": "text/x-python",
   "name": "python",
   "nbconvert_exporter": "python",
   "pygments_lexer": "ipython3",
   "version": "3.6.4"
  }
 },
 "nbformat": 4,
 "nbformat_minor": 2
}
